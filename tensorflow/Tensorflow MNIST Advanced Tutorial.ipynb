{
 "cells": [
  {
   "cell_type": "code",
   "execution_count": null,
   "metadata": {
    "collapsed": true
   },
   "outputs": [],
   "source": [
    "import numpy as np\n",
    "import tensorflow as tf\n",
    "import matplotlib.pyplot as plt\n",
    "%matplotlib inline\n",
    "from __future__ import print_function"
   ]
  },
  {
   "cell_type": "code",
   "execution_count": null,
   "metadata": {
    "collapsed": false
   },
   "outputs": [],
   "source": [
    "from tensorflow.examples.tutorials.mnist import input_data\n",
    "mnist = input_data.read_data_sets(\"MNIST_data/\", one_hot=True)"
   ]
  },
  {
   "cell_type": "code",
   "execution_count": null,
   "metadata": {
    "collapsed": true
   },
   "outputs": [],
   "source": [
    "# Implement this!\n",
    "def dense_layer(input_layer,\n",
    "                num_outputs,\n",
    "                activation_fn=tf.nn.relu):\n",
    "    raise NotImplementedError\n",
    "\n",
    "\n",
    "def dense_network(inputs,\n",
    "                  hidden_sizes=[256,128],\n",
    "                  num_labels=10,\n",
    "                  activation_fn=tf.nn.relu):\n",
    "    layers = [inputs]\n",
    "    for i, hidden_size in enumerate(hidden_sizes + [num_labels]):\n",
    "        with tf.variable_scope(\"layer{}\".format(i)):\n",
    "            next_layer = dense_layer(layers[-1],\n",
    "                                     hidden_size,\n",
    "                                     activation_fn=activation_fn)\n",
    "            layers.append(next_layer)\n",
    "        \n",
    "    return layers[-1]"
   ]
  },
  {
   "cell_type": "code",
   "execution_count": null,
   "metadata": {
    "collapsed": false
   },
   "outputs": [],
   "source": [
    "tf.reset_default_graph()\n",
    "\n",
    "# input placeholder\n",
    "input_images = tf.placeholder(tf.float32, [None, 784]) # 28**2 = 784\n",
    "\n",
    "# true labels\n",
    "true_labels = tf.placeholder(tf.float32, [None, 10])\n",
    "\n",
    "# network output (we call it logits because these are the unnormalized inputs to the softmax)\n",
    "logits = dense_network(input_images)\n",
    "    \n",
    "# loss function \n",
    "# tf.nn.softmax_cross_entropy_with_logits does the same thing as before, with more numerical stability\n",
    "cross_entropy = \\\n",
    "    tf.nn.softmax_cross_entropy_with_logits(logits=logits,\n",
    "                                            labels=true_labels,\n",
    "                                            name=\"cross_entropy\")\n",
    "\n",
    "# optimizer (Adam is the current de-facto standard. An overview over backpropagation algorithms can be found here:\n",
    "# http://sebastianruder.com/optimizing-gradient-descent/index.html)\n",
    "optimizer = tf.train.AdamOptimizer(learning_rate=0.001)\n",
    "\n",
    "train_step = optimizer.minimize(cross_entropy)\n",
    "\n",
    "# evaluation\n",
    "correct_prediction = tf.equal(tf.argmax(logits,1), tf.argmax(true_labels,1))\n",
    "\n",
    "accuracy = tf.reduce_mean(tf.cast(correct_prediction, tf.float32))\n",
    "\n",
    "# initialization\n",
    "init_op = tf.global_variables_initializer()"
   ]
  },
  {
   "cell_type": "code",
   "execution_count": null,
   "metadata": {
    "collapsed": false
   },
   "outputs": [],
   "source": [
    "with tf.Session() as sess:\n",
    "    sess.run(init_op)\n",
    "    \n",
    "    summary_writer = tf.summary.FileWriter(\"./graph\", graph=sess.graph)\n",
    "    \n",
    "    for i in range(20000):\n",
    "        # get a minibatch of size 100\n",
    "        batch_xs, batch_ys = mnist.train.next_batch(100)\n",
    "        \n",
    "        # run the training step\n",
    "        feed_dict = {input_images: batch_xs,\n",
    "                     true_labels: batch_ys}\n",
    "        sess.run(train_step, feed_dict=feed_dict)\n",
    "        \n",
    "        if i%1000==0 and i>0:\n",
    "            print(i)\n",
    "    \n",
    "    test_accuracy = sess.run(accuracy, feed_dict={input_images: mnist.test.images,\n",
    "                                                  true_labels: mnist.test.labels})\n",
    "    \n",
    "print(test_accuracy)"
   ]
  },
  {
   "cell_type": "code",
   "execution_count": null,
   "metadata": {
    "collapsed": true
   },
   "outputs": [],
   "source": []
  }
 ],
 "metadata": {
  "kernelspec": {
   "display_name": "Python 3",
   "language": "python",
   "name": "python3"
  },
  "language_info": {
   "codemirror_mode": {
    "name": "ipython",
    "version": 3
   },
   "file_extension": ".py",
   "mimetype": "text/x-python",
   "name": "python",
   "nbconvert_exporter": "python",
   "pygments_lexer": "ipython3",
   "version": "3.6.0"
  }
 },
 "nbformat": 4,
 "nbformat_minor": 2
}
