{
 "cells": [
  {
   "cell_type": "code",
   "execution_count": 1,
   "metadata": {
    "collapsed": false
   },
   "outputs": [],
   "source": [
    "def deprecated(f):\n",
    "\n",
    "        f.hasRun = True\n",
    "        def inner():\n",
    "            if f.hasRun:\n",
    "                print(\"DEPRECATED\")\n",
    "                f.hasRun = False\n",
    "            f()\n",
    "        return inner \n",
    "\n",
    "\n",
    "\n",
    "\n",
    "\n",
    "@deprecated\n",
    "def f():\n",
    "    print('myfunc')\n"
   ]
  },
  {
   "cell_type": "code",
   "execution_count": 2,
   "metadata": {
    "collapsed": false
   },
   "outputs": [
    {
     "name": "stdout",
     "output_type": "stream",
     "text": [
      "DEPRECATED\n",
      "myfunc\n"
     ]
    }
   ],
   "source": [
    "f()"
   ]
  },
  {
   "cell_type": "code",
   "execution_count": 3,
   "metadata": {
    "collapsed": false
   },
   "outputs": [
    {
     "name": "stdout",
     "output_type": "stream",
     "text": [
      "myfunc\n"
     ]
    }
   ],
   "source": [
    "f()"
   ]
  },
  {
   "cell_type": "code",
   "execution_count": 27,
   "metadata": {
    "collapsed": false
   },
   "outputs": [],
   "source": [
    "def hash_results(f):\n",
    "    dictio = {}\n",
    "    \n",
    "    def fibo2(n):\n",
    "        \n",
    "        if n in dictio:\n",
    "            #print(\"return from table\")\n",
    "            return dictio[n]\n",
    "        a = f(n)\n",
    "        dictio[n] = a\n",
    "        return a\n",
    "    return fibo2\n",
    "        \n",
    "    \n",
    "@hash_results\n",
    "def fibo(n):\n",
    "\n",
    "    if n == 0: return 0\n",
    "    elif n == 1: return 1\n",
    "    else: return fibo(n-1)+fibo(n-2)\n",
    "    \n"
   ]
  },
  {
   "cell_type": "code",
   "execution_count": 28,
   "metadata": {
    "collapsed": false
   },
   "outputs": [
    {
     "name": "stdout",
     "output_type": "stream",
     "text": [
      "time =  0.0016908645629882812\n"
     ]
    }
   ],
   "source": [
    "import time \n",
    "start = time.time()\n",
    "fibo(300)\n",
    "print( \"time = \", time.time()-start)"
   ]
  },
  {
   "cell_type": "code",
   "execution_count": 30,
   "metadata": {
    "collapsed": false
   },
   "outputs": [
    {
     "name": "stdout",
     "output_type": "stream",
     "text": [
      "time =  6.29425048828125e-05\n",
      "WOOHOO\n"
     ]
    }
   ],
   "source": [
    "start = time.time()\n",
    "fibo(300)\n",
    "print( \"time = \", time.time()-start)\n",
    "print(\"WOOHOO\")"
   ]
  },
  {
   "cell_type": "code",
   "execution_count": null,
   "metadata": {
    "collapsed": true
   },
   "outputs": [],
   "source": []
  },
  {
   "cell_type": "code",
   "execution_count": null,
   "metadata": {
    "collapsed": true
   },
   "outputs": [],
   "source": []
  }
 ],
 "metadata": {
  "kernelspec": {
   "display_name": "Python 3",
   "language": "python",
   "name": "python3"
  },
  "language_info": {
   "codemirror_mode": {
    "name": "ipython",
    "version": 3
   },
   "file_extension": ".py",
   "mimetype": "text/x-python",
   "name": "python",
   "nbconvert_exporter": "python",
   "pygments_lexer": "ipython3",
   "version": "3.6.0"
  }
 },
 "nbformat": 4,
 "nbformat_minor": 2
}
