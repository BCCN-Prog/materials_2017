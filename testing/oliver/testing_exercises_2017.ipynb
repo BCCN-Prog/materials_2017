{
 "cells": [
  {
   "cell_type": "markdown",
   "metadata": {},
   "source": [
    "## Exercise – Deceptively simple function"
   ]
  },
  {
   "cell_type": "markdown",
   "metadata": {},
   "source": [
    "*Goals: General practice of debugging and unit testing using agile development techniques.*\n",
    "\n",
    "The file `maxima.py` contains a function, `find_maxima`, that finds local maxima in a list and returns their indices. Please read the last sentence again: it returns the *indices*, not the *values*. ;)\n",
    "\n",
    "a) Test the function with these input arguments and others of your own invention until you are satisfied that it does the right thing for typical cases (remember that the function returns the indices of the maxima):\n",
    "\n",
    "    x = [0, 1, 2, 1, 2, 1, 0]\n",
    "    x = [-i**2 for i in range(-3, 4)]\n",
    "    x = [np.sin(2*alpha) for alpha in np.linspace(0.0, 5.0, 100)]\n",
    "\n",
    "b) Now try with the following inputs:\n",
    "\n",
    "     x = [4, 2, 1, 3, 1, 2]\n",
    "     x = [4, 2, 1, 3, 1, 5]\n",
    "     x = [4, 2, 1, 3, 1]\n",
    "\n",
    "c) You may think that the code is now clean and robust... Look at the output of the function for the input list\n",
    "\n",
    "    x = [1, 2, 2, 1]\n",
    "\n",
    "  Does the output correspond to your intuition? Think about a reasonable default behavior in this situation, and meditate on how such a simple function can hide so many complications\n",
    "\n",
    "d) Implement the “reasonable behavior” you conceived in c), adding a new test.\n",
    "   Make sure that your function handles these inputs correctly (include them in the tests):\n",
    "\n",
    "    x = [1, 2, 2, 3, 1]\n",
    "    x = [1, 3, 2, 2, 1]\n",
    "    x = [3, 2, 2, 3]\n"
   ]
  },
  {
   "cell_type": "code",
   "execution_count": 3,
   "metadata": {
    "ExecuteTime": {
     "end_time": "2017-03-28T10:34:00.077603Z",
     "start_time": "2017-03-28T10:33:59.632983"
    },
    "collapsed": false
   },
   "outputs": [
    {
     "name": "stdout",
     "output_type": "stream",
     "text": [
      "Populating the interactive namespace from numpy and matplotlib\n"
     ]
    }
   ],
   "source": [
    "import numpy as np\n",
    "%pylab inline"
   ]
  },
  {
   "cell_type": "code",
   "execution_count": 134,
   "metadata": {
    "ExecuteTime": {
     "end_time": "2017-03-28T11:32:05.994090Z",
     "start_time": "2017-03-28T11:32:05.986354"
    },
    "collapsed": false
   },
   "outputs": [],
   "source": [
    "def find_max(x):\n",
    "    idx=[]\n",
    "    for i in range(len(x)):\n",
    "        if i==0 and x[i] > x[i+1]:\n",
    "            idx.append(i)\n",
    "\n",
    "        elif i==len(x)-1 and x[i] > x[i-1]:\n",
    "            idx.append(i)\n",
    "\n",
    "        elif i<len(x)-1 and  (x[i-1] <= x[i]) and (x[i+1] <= x[i]):\n",
    "            idx.append(i)\n",
    "\n",
    "    return idx\n"
   ]
  },
  {
   "cell_type": "code",
   "execution_count": 135,
   "metadata": {
    "ExecuteTime": {
     "end_time": "2017-03-28T11:32:06.809907Z",
     "start_time": "2017-03-28T11:32:06.641131"
    },
    "collapsed": false
   },
   "outputs": [
    {
     "data": {
      "text/plain": [
       "[1, 3]"
      ]
     },
     "execution_count": 135,
     "metadata": {},
     "output_type": "execute_result"
    },
    {
     "data": {
      "image/png": "[encoded data removed]",
      "text/plain": [
       "<matplotlib.figure.Figure at 0x110ba5ba8>"
      ]
     },
     "metadata": {},
     "output_type": "display_data"
    }
   ],
   "source": [
    "x = [1,2,2,3, 1]\n",
    "plot(x)\n",
    "find_max(x)\n"
   ]
  },
  {
   "cell_type": "code",
   "execution_count": 27,
   "metadata": {
    "ExecuteTime": {
     "end_time": "2017-03-28T10:12:41.491272Z",
     "start_time": "2017-03-28T10:12:41.487102"
    },
    "collapsed": false
   },
   "outputs": [
    {
     "data": {
      "text/plain": [
       "2"
      ]
     },
     "execution_count": 27,
     "metadata": {},
     "output_type": "execute_result"
    }
   ],
   "source": [
    "x[len(x)-1]"
   ]
  },
  {
   "cell_type": "code",
   "execution_count": 17,
   "metadata": {
    "ExecuteTime": {
     "end_time": "2017-03-28T10:01:25.364492Z",
     "start_time": "2017-03-28T10:01:25.195820"
    },
    "collapsed": false
   },
   "outputs": [
    {
     "data": {
      "text/plain": [
       "[3]"
      ]
     },
     "execution_count": 17,
     "metadata": {},
     "output_type": "execute_result"
    },
    {
     "data": {
      "image/png": "[encoded data removed]",
      "text/plain": [
       "<matplotlib.figure.Figure at 0x11b907160>"
      ]
     },
     "metadata": {},
     "output_type": "display_data"
    }
   ],
   "source": [
    "x = [4, 2, 1, 3, 1, 5]\n",
    "plot(x)\n",
    "find_max(x)"
   ]
  },
  {
   "cell_type": "code",
   "execution_count": null,
   "metadata": {
    "collapsed": true
   },
   "outputs": [],
   "source": []
  }
 ],
 "metadata": {
  "kernelspec": {
   "display_name": "Python 3",
   "language": "python",
   "name": "python3"
  },
  "language_info": {
   "codemirror_mode": {
    "name": "ipython",
    "version": 3
   },
   "file_extension": ".py",
   "mimetype": "text/x-python",
   "name": "python",
   "nbconvert_exporter": "python",
   "pygments_lexer": "ipython3",
   "version": "3.6.0"
  }
 },
 "nbformat": 4,
 "nbformat_minor": 0
}
